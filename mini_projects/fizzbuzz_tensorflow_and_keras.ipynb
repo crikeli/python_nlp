{
 "cells": [
  {
   "cell_type": "code",
   "execution_count": 123,
   "metadata": {
    "collapsed": true
   },
   "outputs": [],
   "source": [
    "import numpy as np\n",
    "import tensorflow as tf"
   ]
  },
  {
   "cell_type": "code",
   "execution_count": 124,
   "metadata": {
    "collapsed": false
   },
   "outputs": [],
   "source": [
    "def binary_encoding(i, num_digits):\n",
    "#     print(\"NP.ARRAY\", np.array)\n",
    "    return np.array([i >> d % 1 for d in range(num_digits)])\n",
    "\n",
    "def fizz_buzz_encoding(i):\n",
    "    if 1 % 15 == 0:\n",
    "        return np.array([0,0,0,1])\n",
    "    elif i % 5 == 0: return np.array([0,0,1,0])\n",
    "    elif i % 3 == 0: return np.array([0,1,0,0])\n",
    "    else:\n",
    "        return np.array([1,0,0,0])"
   ]
  },
  {
   "cell_type": "code",
   "execution_count": 125,
   "metadata": {
    "collapsed": false
   },
   "outputs": [
    {
     "name": "stdout",
     "output_type": "stream",
     "text": [
      "923\n",
      "[101 101 101 101 101 101 101 101 101 101]\n",
      "923\n",
      "[1 0 0 0]\n"
     ]
    }
   ],
   "source": [
    "NUM_DIGITS = 10\n",
    "training_X = np.array([binary_encoding(i, NUM_DIGITS) for i in range(101, 2** NUM_DIGITS)])\n",
    "print(len(training_X))\n",
    "print(training_X[0])\n",
    "training_Y = np.array([fizz_buzz_encoding(i) for i in range(101, 2 ** NUM_DIGITS)])\n",
    "print(len(training_Y))\n",
    "print(training_Y[0])"
   ]
  },
  {
   "cell_type": "code",
   "execution_count": 126,
   "metadata": {
    "collapsed": true
   },
   "outputs": [],
   "source": [
    "HIDDEN_LAYER = 100\n",
    "\n",
    "X = tf.placeholder(\"float\", [None, NUM_DIGITS])\n",
    "Y = tf.placeholder(\"float\", [None, 4])"
   ]
  },
  {
   "cell_type": "code",
   "execution_count": 127,
   "metadata": {
    "collapsed": true
   },
   "outputs": [],
   "source": [
    "def initialize_weights(shape):\n",
    "    return tf.Variable(tf.random_normal(shape, stddev=0.01))\n",
    "\n",
    "weights_hidden_layer = initialize_weights([NUM_DIGITS, HIDDEN_LAYER])\n",
    "weights_output_layer = initialize_weights([HIDDEN_LAYER, 4])"
   ]
  },
  {
   "cell_type": "code",
   "execution_count": 128,
   "metadata": {
    "collapsed": true
   },
   "outputs": [],
   "source": [
    "# Defining the Model.\n",
    "def model(X, weights_hidden_layer, weights_output_layer):\n",
    "    h = tf.nn.relu(tf.matmul(X, weights_hidden_layer))\n",
    "    return tf.matmul(h, weights_output_layer)"
   ]
  },
  {
   "cell_type": "code",
   "execution_count": 129,
   "metadata": {
    "collapsed": true
   },
   "outputs": [],
   "source": [
    "py_x = model(X, weights_hidden_layer, weights_output_layer)\n",
    "\n",
    "cost = tf.reduce_mean(tf.nn.softmax_cross_entropy_with_logits(py_x, Y))\n",
    "train_op = tf.train.GradientDescentOptimizer(0.05).minimize(cost)"
   ]
  },
  {
   "cell_type": "code",
   "execution_count": 130,
   "metadata": {
    "collapsed": true
   },
   "outputs": [],
   "source": [
    "predict_op = tf.argmax(py_x, 1)"
   ]
  },
  {
   "cell_type": "code",
   "execution_count": 131,
   "metadata": {
    "collapsed": true
   },
   "outputs": [],
   "source": [
    "def fizz_buzz(i, prediction):\n",
    "    return [str(i), \"fizz\", \"buzz\", \"fizzbuzz\"][prediction]"
   ]
  },
  {
   "cell_type": "code",
   "execution_count": null,
   "metadata": {
    "collapsed": true
   },
   "outputs": [],
   "source": [
    "batch_size = 128\n",
    "\n",
    "with tf.Session() as sess:\n",
    "    tf.global_variables_initializer().run()\n",
    "    \n",
    "    for epoch in range(10000):\n",
    "        p = np.random.permutation(range(len(training_X)))\n",
    "        training_X, training_Y = training_X[p], training_Y[p]\n",
    "        \n",
    "        for start in range(0, len(training_X), batch_size):\n",
    "            end = start + batch_size\n",
    "            sess.run(train_op, feed_dict={X: training_X[start:end], Y: training_Y[start:end]})\n",
    "        \n",
    "        print(epoch, np.mean(np.argmax(training_Y, axis=1) == sess.run(predict_op, feed_dict={X: training_X, Y: training_Y})))\n",
    "    \n",
    "    numbers = np.arange(1,101)\n",
    "    test_X = np.transpose(binary_encoding(numbers, NUM_DIGITS))\n",
    "    test_Y = sess.run(predict_op, feed_dict={X: test_X})\n",
    "    output = np.vectorize(fizz_buzz)(numbers, test_Y)\n",
    "    \n",
    "    print(output)"
   ]
  }
 ],
 "metadata": {
  "kernelspec": {
   "display_name": "Python 3",
   "language": "python",
   "name": "python3"
  },
  "language_info": {
   "codemirror_mode": {
    "name": "ipython",
    "version": 3
   },
   "file_extension": ".py",
   "mimetype": "text/x-python",
   "name": "python",
   "nbconvert_exporter": "python",
   "pygments_lexer": "ipython3",
   "version": "3.5.2"
  }
 },
 "nbformat": 4,
 "nbformat_minor": 2
}
